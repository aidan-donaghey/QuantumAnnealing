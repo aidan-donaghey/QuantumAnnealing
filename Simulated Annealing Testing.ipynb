{
    "cells": [
        {
            "cell_type": "code",
            "execution_count": 1,
            "source": [
                "from pyqubo import Array, Placeholder, Constraint\n",
                "import networkx as nx\n",
                "import numpy as np\n",
                "import matplotlib.pyplot as plt"
            ],
            "outputs": [],
            "metadata": {}
        },
        {
            "cell_type": "code",
            "execution_count": 48,
            "source": [
                "def plot_city(cities, sol=None):\n",
                "    n_city = len(cities)\n",
                "    cities_dict = dict(cities)\n",
                "    G = nx.Graph()\n",
                "    for city in cities_dict:\n",
                "        G.add_node(city)\n",
                "        \n",
                "    # draw path\n",
                "    if sol:\n",
                "        city_order = []\n",
                "        for i in range(n_city):\n",
                "            for j in range(n_city):\n",
                "                if sol.array('c', (i, j)) == 1:\n",
                "                    city_order.append(j)\n",
                "        for i in range(n_city):\n",
                "            city_index1 = city_order[i]\n",
                "            city_index2 = city_order[(i+1) % n_city]\n",
                "            G.add_edge(cities[city_index1][0], cities[city_index2][0])\n",
                "\n",
                "    plt.figure(figsize=(3,3))\n",
                "    pos = nx.spring_layout(G)\n",
                "    nx.draw_networkx(G, cities_dict)\n",
                "    plt.axis(\"off\")\n",
                "    plt.show()\n",
                "\n",
                "def dist(i, j, cities):\n",
                "    pos_i = cities[i][1]\n",
                "    pos_j = cities[j][1]\n",
                "    return np.sqrt((pos_i[0] - pos_j[0])**2 + (pos_i[1] - pos_j[1])**2)"
            ],
            "outputs": [],
            "metadata": {}
        },
        {
            "cell_type": "code",
            "execution_count": 68,
            "source": [
                "cities = [\n",
                "    (\"a\", (0, 0)),\n",
                "    (\"b\", (1, 3)),\n",
                "    (\"c\", (3, 2)),\n",
                "    (\"d\", (2, 1)),\n",
                "    (\"e\", (1, 0)),\n",
                "    (\"f\", (1, 2))\n",
                "]\n",
                "plot_city(cities)"
            ],
            "outputs": [
                {
                    "output_type": "display_data",
                    "data": {
                        "text/plain": [
                            "<Figure size 300x300 with 1 Axes>"
                        ],
                        "image/svg+xml": "<?xml version=\"1.0\" encoding=\"utf-8\" standalone=\"no\"?>\n<!DOCTYPE svg PUBLIC \"-//W3C//DTD SVG 1.1//EN\"\n  \"http://www.w3.org/Graphics/SVG/1.1/DTD/svg11.dtd\">\n<svg height=\"180.72pt\" version=\"1.1\" viewBox=\"0 0 181.8 180.72\" width=\"181.8pt\" xmlns=\"http://www.w3.org/2000/svg\" xmlns:xlink=\"http://www.w3.org/1999/xlink\">\n <metadata>\n  <rdf:RDF xmlns:cc=\"http://creativecommons.org/ns#\" xmlns:dc=\"http://purl.org/dc/elements/1.1/\" xmlns:rdf=\"http://www.w3.org/1999/02/22-rdf-syntax-ns#\">\n   <cc:Work>\n    <dc:type rdf:resource=\"http://purl.org/dc/dcmitype/StillImage\"/>\n    <dc:date>2021-08-09T15:46:53.465380</dc:date>\n    <dc:format>image/svg+xml</dc:format>\n    <dc:creator>\n     <cc:Agent>\n      <dc:title>Matplotlib v3.4.2, https://matplotlib.org/</dc:title>\n     </cc:Agent>\n    </dc:creator>\n   </cc:Work>\n  </rdf:RDF>\n </metadata>\n <defs>\n  <style type=\"text/css\">*{stroke-linecap:butt;stroke-linejoin:round;}</style>\n </defs>\n <g id=\"figure_1\">\n  <g id=\"patch_1\">\n   <path d=\"M 0 180.72 \nL 181.8 180.72 \nL 181.8 0 \nL 0 0 \nz\n\" style=\"fill:#ffffff;\"/>\n  </g>\n  <g id=\"axes_1\">\n   <g id=\"PathCollection_1\">\n    <defs>\n     <path d=\"M 0 8.660254 \nC 2.296726 8.660254 4.499694 7.747755 6.123724 6.123724 \nC 7.747755 4.499694 8.660254 2.296726 8.660254 0 \nC 8.660254 -2.296726 7.747755 -4.499694 6.123724 -6.123724 \nC 4.499694 -7.747755 2.296726 -8.660254 0 -8.660254 \nC -2.296726 -8.660254 -4.499694 -7.747755 -6.123724 -6.123724 \nC -7.747755 -4.499694 -8.660254 -2.296726 -8.660254 0 \nC -8.660254 2.296726 -7.747755 4.499694 -6.123724 6.123724 \nC -4.499694 7.747755 -2.296726 8.660254 0 8.660254 \nz\n\" id=\"me5000649f7\" style=\"stroke:#1f78b4;\"/>\n    </defs>\n    <g clip-path=\"url(#p616a16f0d9)\">\n     <use style=\"fill:#1f78b4;stroke:#1f78b4;\" x=\"14.809091\" xlink:href=\"#me5000649f7\" y=\"165.96\"/>\n     <use style=\"fill:#1f78b4;stroke:#1f78b4;\" x=\"65.536364\" xlink:href=\"#me5000649f7\" y=\"14.76\"/>\n     <use style=\"fill:#1f78b4;stroke:#1f78b4;\" x=\"166.990909\" xlink:href=\"#me5000649f7\" y=\"65.16\"/>\n     <use style=\"fill:#1f78b4;stroke:#1f78b4;\" x=\"116.263636\" xlink:href=\"#me5000649f7\" y=\"115.56\"/>\n     <use style=\"fill:#1f78b4;stroke:#1f78b4;\" x=\"65.536364\" xlink:href=\"#me5000649f7\" y=\"165.96\"/>\n     <use style=\"fill:#1f78b4;stroke:#1f78b4;\" x=\"65.536364\" xlink:href=\"#me5000649f7\" y=\"65.16\"/>\n    </g>\n   </g>\n   <g id=\"text_1\">\n    <g clip-path=\"url(#p616a16f0d9)\">\n     <!-- a -->\n     <g transform=\"translate(11.132216 169.27125)scale(0.12 -0.12)\">\n      <defs>\n       <path d=\"M 2194 1759 \nQ 1497 1759 1228 1600 \nQ 959 1441 959 1056 \nQ 959 750 1161 570 \nQ 1363 391 1709 391 \nQ 2188 391 2477 730 \nQ 2766 1069 2766 1631 \nL 2766 1759 \nL 2194 1759 \nz\nM 3341 1997 \nL 3341 0 \nL 2766 0 \nL 2766 531 \nQ 2569 213 2275 61 \nQ 1981 -91 1556 -91 \nQ 1019 -91 701 211 \nQ 384 513 384 1019 \nQ 384 1609 779 1909 \nQ 1175 2209 1959 2209 \nL 2766 2209 \nL 2766 2266 \nQ 2766 2663 2505 2880 \nQ 2244 3097 1772 3097 \nQ 1472 3097 1187 3025 \nQ 903 2953 641 2809 \nL 641 3341 \nQ 956 3463 1253 3523 \nQ 1550 3584 1831 3584 \nQ 2591 3584 2966 3190 \nQ 3341 2797 3341 1997 \nz\n\" id=\"DejaVuSans-61\" transform=\"scale(0.015625)\"/>\n      </defs>\n      <use xlink:href=\"#DejaVuSans-61\"/>\n     </g>\n    </g>\n   </g>\n   <g id=\"text_2\">\n    <g clip-path=\"url(#p616a16f0d9)\">\n     <!-- b -->\n     <g transform=\"translate(61.727301 18.07125)scale(0.12 -0.12)\">\n      <defs>\n       <path d=\"M 3116 1747 \nQ 3116 2381 2855 2742 \nQ 2594 3103 2138 3103 \nQ 1681 3103 1420 2742 \nQ 1159 2381 1159 1747 \nQ 1159 1113 1420 752 \nQ 1681 391 2138 391 \nQ 2594 391 2855 752 \nQ 3116 1113 3116 1747 \nz\nM 1159 2969 \nQ 1341 3281 1617 3432 \nQ 1894 3584 2278 3584 \nQ 2916 3584 3314 3078 \nQ 3713 2572 3713 1747 \nQ 3713 922 3314 415 \nQ 2916 -91 2278 -91 \nQ 1894 -91 1617 61 \nQ 1341 213 1159 525 \nL 1159 0 \nL 581 0 \nL 581 4863 \nL 1159 4863 \nL 1159 2969 \nz\n\" id=\"DejaVuSans-62\" transform=\"scale(0.015625)\"/>\n      </defs>\n      <use xlink:href=\"#DejaVuSans-62\"/>\n     </g>\n    </g>\n   </g>\n   <g id=\"text_3\">\n    <g clip-path=\"url(#p616a16f0d9)\">\n     <!-- c -->\n     <g transform=\"translate(163.691847 68.47125)scale(0.12 -0.12)\">\n      <defs>\n       <path d=\"M 3122 3366 \nL 3122 2828 \nQ 2878 2963 2633 3030 \nQ 2388 3097 2138 3097 \nQ 1578 3097 1268 2742 \nQ 959 2388 959 1747 \nQ 959 1106 1268 751 \nQ 1578 397 2138 397 \nQ 2388 397 2633 464 \nQ 2878 531 3122 666 \nL 3122 134 \nQ 2881 22 2623 -34 \nQ 2366 -91 2075 -91 \nQ 1284 -91 818 406 \nQ 353 903 353 1747 \nQ 353 2603 823 3093 \nQ 1294 3584 2113 3584 \nQ 2378 3584 2631 3529 \nQ 2884 3475 3122 3366 \nz\n\" id=\"DejaVuSans-63\" transform=\"scale(0.015625)\"/>\n      </defs>\n      <use xlink:href=\"#DejaVuSans-63\"/>\n     </g>\n    </g>\n   </g>\n   <g id=\"text_4\">\n    <g clip-path=\"url(#p616a16f0d9)\">\n     <!-- d -->\n     <g transform=\"translate(112.454574 118.87125)scale(0.12 -0.12)\">\n      <defs>\n       <path d=\"M 2906 2969 \nL 2906 4863 \nL 3481 4863 \nL 3481 0 \nL 2906 0 \nL 2906 525 \nQ 2725 213 2448 61 \nQ 2172 -91 1784 -91 \nQ 1150 -91 751 415 \nQ 353 922 353 1747 \nQ 353 2572 751 3078 \nQ 1150 3584 1784 3584 \nQ 2172 3584 2448 3432 \nQ 2725 3281 2906 2969 \nz\nM 947 1747 \nQ 947 1113 1208 752 \nQ 1469 391 1925 391 \nQ 2381 391 2643 752 \nQ 2906 1113 2906 1747 \nQ 2906 2381 2643 2742 \nQ 2381 3103 1925 3103 \nQ 1469 3103 1208 2742 \nQ 947 2381 947 1747 \nz\n\" id=\"DejaVuSans-64\" transform=\"scale(0.015625)\"/>\n      </defs>\n      <use xlink:href=\"#DejaVuSans-64\"/>\n     </g>\n    </g>\n   </g>\n   <g id=\"text_5\">\n    <g clip-path=\"url(#p616a16f0d9)\">\n     <!-- e -->\n     <g transform=\"translate(61.844489 169.27125)scale(0.12 -0.12)\">\n      <defs>\n       <path d=\"M 3597 1894 \nL 3597 1613 \nL 953 1613 \nQ 991 1019 1311 708 \nQ 1631 397 2203 397 \nQ 2534 397 2845 478 \nQ 3156 559 3463 722 \nL 3463 178 \nQ 3153 47 2828 -22 \nQ 2503 -91 2169 -91 \nQ 1331 -91 842 396 \nQ 353 884 353 1716 \nQ 353 2575 817 3079 \nQ 1281 3584 2069 3584 \nQ 2775 3584 3186 3129 \nQ 3597 2675 3597 1894 \nz\nM 3022 2063 \nQ 3016 2534 2758 2815 \nQ 2500 3097 2075 3097 \nQ 1594 3097 1305 2825 \nQ 1016 2553 972 2059 \nL 3022 2063 \nz\n\" id=\"DejaVuSans-65\" transform=\"scale(0.015625)\"/>\n      </defs>\n      <use xlink:href=\"#DejaVuSans-65\"/>\n     </g>\n    </g>\n   </g>\n   <g id=\"text_6\">\n    <g clip-path=\"url(#p616a16f0d9)\">\n     <!-- f -->\n     <g transform=\"translate(63.424176 68.47125)scale(0.12 -0.12)\">\n      <defs>\n       <path d=\"M 2375 4863 \nL 2375 4384 \nL 1825 4384 \nQ 1516 4384 1395 4259 \nQ 1275 4134 1275 3809 \nL 1275 3500 \nL 2222 3500 \nL 2222 3053 \nL 1275 3053 \nL 1275 0 \nL 697 0 \nL 697 3053 \nL 147 3053 \nL 147 3500 \nL 697 3500 \nL 697 3744 \nQ 697 4328 969 4595 \nQ 1241 4863 1831 4863 \nL 2375 4863 \nz\n\" id=\"DejaVuSans-66\" transform=\"scale(0.015625)\"/>\n      </defs>\n      <use xlink:href=\"#DejaVuSans-66\"/>\n     </g>\n    </g>\n   </g>\n  </g>\n </g>\n <defs>\n  <clipPath id=\"p616a16f0d9\">\n   <rect height=\"166.32\" width=\"167.4\" x=\"7.2\" y=\"7.2\"/>\n  </clipPath>\n </defs>\n</svg>\n",
                        "image/png": "[encoded data removed]"
                    },
                    "metadata": {}
                }
            ],
            "metadata": {}
        },
        {
            "cell_type": "code",
            "execution_count": 77,
            "source": [
                "n_city = len(cities)\n",
                "x = Array.create('c', (n_city, n_city), 'BINARY')"
            ],
            "outputs": [],
            "metadata": {}
        },
        {
            "cell_type": "code",
            "execution_count": 79,
            "source": [
                "x"
            ],
            "outputs": [
                {
                    "output_type": "execute_result",
                    "data": {
                        "text/plain": [
                            "Array([[Binary(c[0][0]), Binary(c[0][1]), Binary(c[0][2]), Binary(c[0][3]), Binary(c[0][4]), Binary(c[0][5])],\n",
                            "       [Binary(c[1][0]), Binary(c[1][1]), Binary(c[1][2]), Binary(c[1][3]), Binary(c[1][4]), Binary(c[1][5])],\n",
                            "       [Binary(c[2][0]), Binary(c[2][1]), Binary(c[2][2]), Binary(c[2][3]), Binary(c[2][4]), Binary(c[2][5])],\n",
                            "       [Binary(c[3][0]), Binary(c[3][1]), Binary(c[3][2]), Binary(c[3][3]), Binary(c[3][4]), Binary(c[3][5])],\n",
                            "       [Binary(c[4][0]), Binary(c[4][1]), Binary(c[4][2]), Binary(c[4][3]), Binary(c[4][4]), Binary(c[4][5])],\n",
                            "       [Binary(c[5][0]), Binary(c[5][1]), Binary(c[5][2]), Binary(c[5][3]), Binary(c[5][4]), Binary(c[5][5])]])"
                        ]
                    },
                    "metadata": {},
                    "execution_count": 79
                }
            ],
            "metadata": {}
        },
        {
            "cell_type": "code",
            "execution_count": 70,
            "source": [
                "# Constraint not to visit more than two cities at the same time.\n",
                "time_const = 0.0\n",
                "for i in range(n_city):\n",
                "    # If you wrap the hamiltonian by Const(...), this part is recognized as constraint\n",
                "    time_const += Constraint((sum(x[i, j] for j in range(n_city)) - 1)**2, label=\"time{}\".format(i))\n",
                "\n",
                "# Constraint not to visit the same city more than twice.\n",
                "city_const = 0.0\n",
                "for j in range(n_city):\n",
                "    city_const += Constraint((sum(x[i, j] for i in range(n_city)) - 1)**2, label=\"city{}\".format(j))"
            ],
            "outputs": [],
            "metadata": {}
        },
        {
            "cell_type": "code",
            "execution_count": 71,
            "source": [
                "# distance of route\n",
                "distance = 0.0\n",
                "for i in range(n_city):\n",
                "    for j in range(n_city):\n",
                "        for k in range(n_city):\n",
                "            d_ij = dist(i, j, cities)\n",
                "            distance += d_ij * x[k, i] * x[(k+1)%n_city, j]"
            ],
            "outputs": [],
            "metadata": {}
        },
        {
            "cell_type": "code",
            "execution_count": 72,
            "source": [
                "\n",
                "# Construct hamiltonian\n",
                "A = Placeholder(\"A\")\n",
                "H = distance + A * (time_const + city_const)"
            ],
            "outputs": [],
            "metadata": {}
        },
        {
            "cell_type": "code",
            "execution_count": 80,
            "source": [
                "\n",
                "# Compile model\n",
                "model = H.compile()\n",
                "# Generate QUBO\n",
                "#Changing this changes the A in the place holder and therefore the affect that the time_const and city const have\n",
                "feed_dict = {'A': 4.0}\n",
                "bqm = model.to_bqm(feed_dict=feed_dict)"
            ],
            "outputs": [],
            "metadata": {}
        },
        {
            "cell_type": "code",
            "execution_count": 74,
            "source": [
                "import neal\n",
                "sa = neal.SimulatedAnnealingSampler()\n",
                "sampleset = sa.sample(bqm, num_reads=100, num_sweeps=100)\n",
                "\n",
                "# Decode solution\n",
                "decoded_samples = model.decode_sampleset(sampleset, feed_dict=feed_dict)\n",
                "best_sample = min(decoded_samples, key=lambda x: x.energy)\n",
                "num_broken = len(best_sample.constraints(only_broken=True))\n",
                "print(\"number of broken constarint = {}\".format(num_broken))"
            ],
            "outputs": [
                {
                    "output_type": "stream",
                    "name": "stdout",
                    "text": [
                        "number of broken constarint = 0\n"
                    ]
                }
            ],
            "metadata": {}
        },
        {
            "cell_type": "code",
            "execution_count": 85,
            "source": [
                "best_sample"
            ],
            "outputs": [
                {
                    "output_type": "execute_result",
                    "data": {
                        "text/plain": [
                            "DecodedSample(decoded_subhs=[Constraint(city5,energy=0.000000),Constraint(city4,energy=0.000000),Constraint(city3,energy=0.000000),Constraint(city2,energy=0.000000),Constraint(city0,energy=0.000000),Constraint(city1,energy=0.000000),Constraint(time5,energy=0.000000),Constraint(time4,energy=0.000000),Constraint(time3,energy=0.000000),Constraint(time2,energy=0.000000),Constraint(time0,energy=0.000000),Constraint(time1,energy=0.000000)],sample={c[2][0]:0,c[4][1]:0,c[0][5]:1,c[0][0]:0,c[5][1]:1,c[1][5]:0,c[2][4]:1,c[1][4]:0,c[3][4]:0,c[1][0]:1,c[0][2]:0,c[1][1]:0,c[1][2]:0,c[0][4]:0,c[0][3]:0,c[2][3]:0,c[1][3]:0,c[0][1]:0,c[4][0]:0,c[3][0]:0,c[2][1]:0,c[5][2]:0,c[5][3]:0,c[2][5]:0,c[4][3]:0,c[3][1]:0,c[2][2]:0,c[3][2]:0,c[5][0]:0,c[3][3]:1,c[3][5]:0,c[4][2]:1,c[4][4]:0,c[4][5]:0,c[5][4]:0,c[5][5]:0})"
                        ]
                    },
                    "metadata": {},
                    "execution_count": 85
                }
            ],
            "metadata": {}
        },
        {
            "cell_type": "code",
            "execution_count": 75,
            "source": [
                "num_broken"
            ],
            "outputs": [
                {
                    "output_type": "execute_result",
                    "data": {
                        "text/plain": [
                            "0"
                        ]
                    },
                    "metadata": {},
                    "execution_count": 75
                }
            ],
            "metadata": {}
        },
        {
            "cell_type": "code",
            "execution_count": 76,
            "source": [
                "if num_broken == 0:\n",
                "    plot_city(cities, best_sample)"
            ],
            "outputs": [
                {
                    "output_type": "display_data",
                    "data": {
                        "text/plain": [
                            "<Figure size 300x300 with 1 Axes>"
                        ],
                        "image/svg+xml": "<?xml version=\"1.0\" encoding=\"utf-8\" standalone=\"no\"?>\n<!DOCTYPE svg PUBLIC \"-//W3C//DTD SVG 1.1//EN\"\n  \"http://www.w3.org/Graphics/SVG/1.1/DTD/svg11.dtd\">\n<svg height=\"180.72pt\" version=\"1.1\" viewBox=\"0 0 181.8 180.72\" width=\"181.8pt\" xmlns=\"http://www.w3.org/2000/svg\" xmlns:xlink=\"http://www.w3.org/1999/xlink\">\n <metadata>\n  <rdf:RDF xmlns:cc=\"http://creativecommons.org/ns#\" xmlns:dc=\"http://purl.org/dc/elements/1.1/\" xmlns:rdf=\"http://www.w3.org/1999/02/22-rdf-syntax-ns#\">\n   <cc:Work>\n    <dc:type rdf:resource=\"http://purl.org/dc/dcmitype/StillImage\"/>\n    <dc:date>2021-08-09T15:47:01.300760</dc:date>\n    <dc:format>image/svg+xml</dc:format>\n    <dc:creator>\n     <cc:Agent>\n      <dc:title>Matplotlib v3.4.2, https://matplotlib.org/</dc:title>\n     </cc:Agent>\n    </dc:creator>\n   </cc:Work>\n  </rdf:RDF>\n </metadata>\n <defs>\n  <style type=\"text/css\">*{stroke-linecap:butt;stroke-linejoin:round;}</style>\n </defs>\n <g id=\"figure_1\">\n  <g id=\"patch_1\">\n   <path d=\"M 0 180.72 \nL 181.8 180.72 \nL 181.8 0 \nL 0 0 \nz\n\" style=\"fill:#ffffff;\"/>\n  </g>\n  <g id=\"axes_1\">\n   <g id=\"LineCollection_1\">\n    <path clip-path=\"url(#pbc1537a9c0)\" d=\"M 21.726446 159.087273 \nL 67.842149 67.450909 \n\" style=\"fill:none;stroke:#000000;\"/>\n    <path clip-path=\"url(#pbc1537a9c0)\" d=\"M 21.726446 159.087273 \nL 67.842149 159.087273 \n\" style=\"fill:none;stroke:#000000;\"/>\n    <path clip-path=\"url(#pbc1537a9c0)\" d=\"M 67.842149 21.632727 \nL 160.073554 67.450909 \n\" style=\"fill:none;stroke:#000000;\"/>\n    <path clip-path=\"url(#pbc1537a9c0)\" d=\"M 67.842149 21.632727 \nL 67.842149 67.450909 \n\" style=\"fill:none;stroke:#000000;\"/>\n    <path clip-path=\"url(#pbc1537a9c0)\" d=\"M 160.073554 67.450909 \nL 113.957851 113.269091 \n\" style=\"fill:none;stroke:#000000;\"/>\n    <path clip-path=\"url(#pbc1537a9c0)\" d=\"M 113.957851 113.269091 \nL 67.842149 159.087273 \n\" style=\"fill:none;stroke:#000000;\"/>\n   </g>\n   <g id=\"PathCollection_1\">\n    <defs>\n     <path d=\"M 0 8.660254 \nC 2.296726 8.660254 4.499694 7.747755 6.123724 6.123724 \nC 7.747755 4.499694 8.660254 2.296726 8.660254 0 \nC 8.660254 -2.296726 7.747755 -4.499694 6.123724 -6.123724 \nC 4.499694 -7.747755 2.296726 -8.660254 0 -8.660254 \nC -2.296726 -8.660254 -4.499694 -7.747755 -6.123724 -6.123724 \nC -7.747755 -4.499694 -8.660254 -2.296726 -8.660254 0 \nC -8.660254 2.296726 -7.747755 4.499694 -6.123724 6.123724 \nC -4.499694 7.747755 -2.296726 8.660254 0 8.660254 \nz\n\" id=\"m759b6a8015\" style=\"stroke:#1f78b4;\"/>\n    </defs>\n    <g clip-path=\"url(#pbc1537a9c0)\">\n     <use style=\"fill:#1f78b4;stroke:#1f78b4;\" x=\"21.726446\" xlink:href=\"#m759b6a8015\" y=\"159.087273\"/>\n     <use style=\"fill:#1f78b4;stroke:#1f78b4;\" x=\"67.842149\" xlink:href=\"#m759b6a8015\" y=\"21.632727\"/>\n     <use style=\"fill:#1f78b4;stroke:#1f78b4;\" x=\"160.073554\" xlink:href=\"#m759b6a8015\" y=\"67.450909\"/>\n     <use style=\"fill:#1f78b4;stroke:#1f78b4;\" x=\"113.957851\" xlink:href=\"#m759b6a8015\" y=\"113.269091\"/>\n     <use style=\"fill:#1f78b4;stroke:#1f78b4;\" x=\"67.842149\" xlink:href=\"#m759b6a8015\" y=\"159.087273\"/>\n     <use style=\"fill:#1f78b4;stroke:#1f78b4;\" x=\"67.842149\" xlink:href=\"#m759b6a8015\" y=\"67.450909\"/>\n    </g>\n   </g>\n   <g id=\"text_1\">\n    <g clip-path=\"url(#pbc1537a9c0)\">\n     <!-- a -->\n     <g transform=\"translate(18.049571 162.398523)scale(0.12 -0.12)\">\n      <defs>\n       <path d=\"M 2194 1759 \nQ 1497 1759 1228 1600 \nQ 959 1441 959 1056 \nQ 959 750 1161 570 \nQ 1363 391 1709 391 \nQ 2188 391 2477 730 \nQ 2766 1069 2766 1631 \nL 2766 1759 \nL 2194 1759 \nz\nM 3341 1997 \nL 3341 0 \nL 2766 0 \nL 2766 531 \nQ 2569 213 2275 61 \nQ 1981 -91 1556 -91 \nQ 1019 -91 701 211 \nQ 384 513 384 1019 \nQ 384 1609 779 1909 \nQ 1175 2209 1959 2209 \nL 2766 2209 \nL 2766 2266 \nQ 2766 2663 2505 2880 \nQ 2244 3097 1772 3097 \nQ 1472 3097 1187 3025 \nQ 903 2953 641 2809 \nL 641 3341 \nQ 956 3463 1253 3523 \nQ 1550 3584 1831 3584 \nQ 2591 3584 2966 3190 \nQ 3341 2797 3341 1997 \nz\n\" id=\"DejaVuSans-61\" transform=\"scale(0.015625)\"/>\n      </defs>\n      <use xlink:href=\"#DejaVuSans-61\"/>\n     </g>\n    </g>\n   </g>\n   <g id=\"text_2\">\n    <g clip-path=\"url(#pbc1537a9c0)\">\n     <!-- b -->\n     <g transform=\"translate(64.033086 24.943977)scale(0.12 -0.12)\">\n      <defs>\n       <path d=\"M 3116 1747 \nQ 3116 2381 2855 2742 \nQ 2594 3103 2138 3103 \nQ 1681 3103 1420 2742 \nQ 1159 2381 1159 1747 \nQ 1159 1113 1420 752 \nQ 1681 391 2138 391 \nQ 2594 391 2855 752 \nQ 3116 1113 3116 1747 \nz\nM 1159 2969 \nQ 1341 3281 1617 3432 \nQ 1894 3584 2278 3584 \nQ 2916 3584 3314 3078 \nQ 3713 2572 3713 1747 \nQ 3713 922 3314 415 \nQ 2916 -91 2278 -91 \nQ 1894 -91 1617 61 \nQ 1341 213 1159 525 \nL 1159 0 \nL 581 0 \nL 581 4863 \nL 1159 4863 \nL 1159 2969 \nz\n\" id=\"DejaVuSans-62\" transform=\"scale(0.015625)\"/>\n      </defs>\n      <use xlink:href=\"#DejaVuSans-62\"/>\n     </g>\n    </g>\n   </g>\n   <g id=\"text_3\">\n    <g clip-path=\"url(#pbc1537a9c0)\">\n     <!-- c -->\n     <g transform=\"translate(156.774491 70.762159)scale(0.12 -0.12)\">\n      <defs>\n       <path d=\"M 3122 3366 \nL 3122 2828 \nQ 2878 2963 2633 3030 \nQ 2388 3097 2138 3097 \nQ 1578 3097 1268 2742 \nQ 959 2388 959 1747 \nQ 959 1106 1268 751 \nQ 1578 397 2138 397 \nQ 2388 397 2633 464 \nQ 2878 531 3122 666 \nL 3122 134 \nQ 2881 22 2623 -34 \nQ 2366 -91 2075 -91 \nQ 1284 -91 818 406 \nQ 353 903 353 1747 \nQ 353 2603 823 3093 \nQ 1294 3584 2113 3584 \nQ 2378 3584 2631 3529 \nQ 2884 3475 3122 3366 \nz\n\" id=\"DejaVuSans-63\" transform=\"scale(0.015625)\"/>\n      </defs>\n      <use xlink:href=\"#DejaVuSans-63\"/>\n     </g>\n    </g>\n   </g>\n   <g id=\"text_4\">\n    <g clip-path=\"url(#pbc1537a9c0)\">\n     <!-- d -->\n     <g transform=\"translate(110.148789 116.580341)scale(0.12 -0.12)\">\n      <defs>\n       <path d=\"M 2906 2969 \nL 2906 4863 \nL 3481 4863 \nL 3481 0 \nL 2906 0 \nL 2906 525 \nQ 2725 213 2448 61 \nQ 2172 -91 1784 -91 \nQ 1150 -91 751 415 \nQ 353 922 353 1747 \nQ 353 2572 751 3078 \nQ 1150 3584 1784 3584 \nQ 2172 3584 2448 3432 \nQ 2725 3281 2906 2969 \nz\nM 947 1747 \nQ 947 1113 1208 752 \nQ 1469 391 1925 391 \nQ 2381 391 2643 752 \nQ 2906 1113 2906 1747 \nQ 2906 2381 2643 2742 \nQ 2381 3103 1925 3103 \nQ 1469 3103 1208 2742 \nQ 947 2381 947 1747 \nz\n\" id=\"DejaVuSans-64\" transform=\"scale(0.015625)\"/>\n      </defs>\n      <use xlink:href=\"#DejaVuSans-64\"/>\n     </g>\n    </g>\n   </g>\n   <g id=\"text_5\">\n    <g clip-path=\"url(#pbc1537a9c0)\">\n     <!-- e -->\n     <g transform=\"translate(64.150274 162.398523)scale(0.12 -0.12)\">\n      <defs>\n       <path d=\"M 3597 1894 \nL 3597 1613 \nL 953 1613 \nQ 991 1019 1311 708 \nQ 1631 397 2203 397 \nQ 2534 397 2845 478 \nQ 3156 559 3463 722 \nL 3463 178 \nQ 3153 47 2828 -22 \nQ 2503 -91 2169 -91 \nQ 1331 -91 842 396 \nQ 353 884 353 1716 \nQ 353 2575 817 3079 \nQ 1281 3584 2069 3584 \nQ 2775 3584 3186 3129 \nQ 3597 2675 3597 1894 \nz\nM 3022 2063 \nQ 3016 2534 2758 2815 \nQ 2500 3097 2075 3097 \nQ 1594 3097 1305 2825 \nQ 1016 2553 972 2059 \nL 3022 2063 \nz\n\" id=\"DejaVuSans-65\" transform=\"scale(0.015625)\"/>\n      </defs>\n      <use xlink:href=\"#DejaVuSans-65\"/>\n     </g>\n    </g>\n   </g>\n   <g id=\"text_6\">\n    <g clip-path=\"url(#pbc1537a9c0)\">\n     <!-- f -->\n     <g transform=\"translate(65.729961 70.762159)scale(0.12 -0.12)\">\n      <defs>\n       <path d=\"M 2375 4863 \nL 2375 4384 \nL 1825 4384 \nQ 1516 4384 1395 4259 \nQ 1275 4134 1275 3809 \nL 1275 3500 \nL 2222 3500 \nL 2222 3053 \nL 1275 3053 \nL 1275 0 \nL 697 0 \nL 697 3053 \nL 147 3053 \nL 147 3500 \nL 697 3500 \nL 697 3744 \nQ 697 4328 969 4595 \nQ 1241 4863 1831 4863 \nL 2375 4863 \nz\n\" id=\"DejaVuSans-66\" transform=\"scale(0.015625)\"/>\n      </defs>\n      <use xlink:href=\"#DejaVuSans-66\"/>\n     </g>\n    </g>\n   </g>\n  </g>\n </g>\n <defs>\n  <clipPath id=\"pbc1537a9c0\">\n   <rect height=\"166.32\" width=\"167.4\" x=\"7.2\" y=\"7.2\"/>\n  </clipPath>\n </defs>\n</svg>\n",
                        "image/png": "[encoded data removed]"
                    },
                    "metadata": {}
                }
            ],
            "metadata": {}
        },
        {
            "cell_type": "code",
            "execution_count": 35,
            "source": [
                "from dimod import BinaryQuadraticModel\n",
                "from dwave.system import LeapHybridSampler"
            ],
            "outputs": [],
            "metadata": {}
        },
        {
            "cell_type": "code",
            "execution_count": null,
            "source": [
                "# sampler = LeapHybridSampler()\n",
                "\n",
                "# sampleset = sampler.sample(bqm, label='Example Travelling Sales Person')\n",
                "# sample = sampleset.first.sample"
            ],
            "outputs": [
                {
                    "output_type": "error",
                    "ename": "Error",
                    "evalue": "Session cannot generate requests",
                    "traceback": [
                        "Error: Session cannot generate requests",
                        "at w.executeCodeCell (/Users/aidandonaghey/.vscode/extensions/ms-toolsai.jupyter-2021.8.1195043623/out/client/extension.js:90:325139)",
                        "at w.execute (/Users/aidandonaghey/.vscode/extensions/ms-toolsai.jupyter-2021.8.1195043623/out/client/extension.js:90:324460)",
                        "at w.start (/Users/aidandonaghey/.vscode/extensions/ms-toolsai.jupyter-2021.8.1195043623/out/client/extension.js:90:320276)",
                        "at runMicrotasks (<anonymous>)",
                        "at processTicksAndRejections (internal/process/task_queues.js:93:5)",
                        "at t.CellExecutionQueue.executeQueuedCells (/Users/aidandonaghey/.vscode/extensions/ms-toolsai.jupyter-2021.8.1195043623/out/client/extension.js:90:334803)",
                        "at t.CellExecutionQueue.start (/Users/aidandonaghey/.vscode/extensions/ms-toolsai.jupyter-2021.8.1195043623/out/client/extension.js:90:334343)"
                    ]
                }
            ],
            "metadata": {}
        },
        {
            "cell_type": "code",
            "execution_count": null,
            "source": [
                "sample"
            ],
            "outputs": [
                {
                    "output_type": "error",
                    "ename": "Error",
                    "evalue": "Session cannot generate requests",
                    "traceback": [
                        "Error: Session cannot generate requests",
                        "at w.executeCodeCell (/Users/aidandonaghey/.vscode/extensions/ms-toolsai.jupyter-2021.8.1195043623/out/client/extension.js:90:325139)",
                        "at w.execute (/Users/aidandonaghey/.vscode/extensions/ms-toolsai.jupyter-2021.8.1195043623/out/client/extension.js:90:324460)",
                        "at w.start (/Users/aidandonaghey/.vscode/extensions/ms-toolsai.jupyter-2021.8.1195043623/out/client/extension.js:90:320276)",
                        "at runMicrotasks (<anonymous>)",
                        "at processTicksAndRejections (internal/process/task_queues.js:93:5)",
                        "at t.CellExecutionQueue.executeQueuedCells (/Users/aidandonaghey/.vscode/extensions/ms-toolsai.jupyter-2021.8.1195043623/out/client/extension.js:90:334803)",
                        "at t.CellExecutionQueue.start (/Users/aidandonaghey/.vscode/extensions/ms-toolsai.jupyter-2021.8.1195043623/out/client/extension.js:90:334343)"
                    ]
                }
            ],
            "metadata": {}
        },
        {
            "cell_type": "code",
            "execution_count": null,
            "source": [
                "decoded_Best_samples = model.decode_sampleset(sample, feed_dict=feed_dict)"
            ],
            "outputs": [],
            "metadata": {}
        },
        {
            "cell_type": "code",
            "execution_count": null,
            "source": [],
            "outputs": [
                {
                    "output_type": "error",
                    "ename": "Error",
                    "evalue": "Session cannot generate requests",
                    "traceback": [
                        "Error: Session cannot generate requests",
                        "at w.executeCodeCell (/Users/aidandonaghey/.vscode/extensions/ms-toolsai.jupyter-2021.8.1195043623/out/client/extension.js:90:325139)",
                        "at w.execute (/Users/aidandonaghey/.vscode/extensions/ms-toolsai.jupyter-2021.8.1195043623/out/client/extension.js:90:324460)",
                        "at w.start (/Users/aidandonaghey/.vscode/extensions/ms-toolsai.jupyter-2021.8.1195043623/out/client/extension.js:90:320276)",
                        "at runMicrotasks (<anonymous>)",
                        "at processTicksAndRejections (internal/process/task_queues.js:93:5)",
                        "at t.CellExecutionQueue.executeQueuedCells (/Users/aidandonaghey/.vscode/extensions/ms-toolsai.jupyter-2021.8.1195043623/out/client/extension.js:90:334803)",
                        "at t.CellExecutionQueue.start (/Users/aidandonaghey/.vscode/extensions/ms-toolsai.jupyter-2021.8.1195043623/out/client/extension.js:90:334343)"
                    ]
                }
            ],
            "metadata": {}
        },
        {
            "cell_type": "code",
            "execution_count": null,
            "source": [],
            "outputs": [],
            "metadata": {}
        }
    ],
    "metadata": {
        "orig_nbformat": 4,
        "language_info": {
            "name": "python",
            "version": "3.9.6",
            "mimetype": "text/x-python",
            "codemirror_mode": {
                "name": "ipython",
                "version": 3
            },
            "pygments_lexer": "ipython3",
            "nbconvert_exporter": "python",
            "file_extension": ".py"
        },
        "kernelspec": {
            "name": "python3",
            "display_name": "Python 3.9.6 64-bit ('QTSP': conda)"
        },
        "interpreter": {
            "hash": "c85954fd6eafe71169f1ff0024d45bdfa72f9d3b074d7b40b0501119392129bb"
        }
    },
    "nbformat": 4,
    "nbformat_minor": 2
}